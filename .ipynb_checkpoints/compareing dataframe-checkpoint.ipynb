{
 "cells": [
  {
   "cell_type": "code",
   "execution_count": null,
   "id": "d4729132-7f39-43ea-91be-7786774c9e42",
   "metadata": {},
   "outputs": [],
   "source": [
    "import numpy as np\n",
    "#single dimensional array\n",
    "arr = np.array([10,20,30,40])\n",
    "print(arr)\n",
    "print((arr[0:2]))\n",
    "print((arr[2:]))\n",
    "print(type(arr))\n",
    " multi dimensional arrray\n",
    "arr1 = np.array([[1,2,3,10],[4,5,6,20],[7,8,9,30]])\n",
    "print(arr1)\n",
    "print(arr1[0:2,0:2])\n",
    "print(arr1[1,2:])\n",
    "print(arr1[2,1:3])\n",
    "print(np.shape(arr1))  #row/col\n",
    "print(np.size(arr1))   # number of element\n",
    "print(np.ndim(arr1))   # dimension (row and col)\n",
    "print(np.dtype)        # data type of array\n",
    "print(len(arr1))        # number of nested value\n",
    "print(arr1.astype(float))  #conversion of datatype\n"
   ]
  }
 ],
 "metadata": {
  "kernelspec": {
   "display_name": "Python 3 (ipykernel)",
   "language": "python",
   "name": "python3"
  },
  "language_info": {
   "codemirror_mode": {
    "name": "ipython",
    "version": 3
   },
   "file_extension": ".py",
   "mimetype": "text/x-python",
   "name": "python",
   "nbconvert_exporter": "python",
   "pygments_lexer": "ipython3",
   "version": "3.12.0"
  }
 },
 "nbformat": 4,
 "nbformat_minor": 5
}
