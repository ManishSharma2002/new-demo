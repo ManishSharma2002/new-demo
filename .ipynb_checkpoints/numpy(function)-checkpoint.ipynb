{
 "cells": [
  {
   "cell_type": "code",
   "execution_count": 2,
   "id": "d3a949ca-525c-4804-a242-b519161f7b6f",
   "metadata": {},
   "outputs": [
    {
     "name": "stdout",
     "output_type": "stream",
     "text": [
      "[10 20 30 40]\n",
      "[10 20]\n",
      "[30 40]\n",
      "<class 'numpy.ndarray'>\n",
      "[[ 1  2  3 10]\n",
      " [ 4  5  6 20]\n",
      " [ 7  8  9 30]]\n",
      "[[1 2]\n",
      " [4 5]]\n",
      "[ 6 20]\n",
      "[8 9]\n",
      "(3, 4)\n",
      "12\n",
      "2\n",
      "<class 'numpy.dtype'>\n",
      "3\n",
      "[[ 1.  2.  3. 10.]\n",
      " [ 4.  5.  6. 20.]\n",
      " [ 7.  8.  9. 30.]]\n"
     ]
    }
   ],
   "source": [
    "import numpy as np\n",
    "#single dimensional array\n",
    "arr = np.array([10,20,30,40])\n",
    "print(arr)\n",
    "print((arr[0:2]))\n",
    "print((arr[2:]))\n",
    "print(type(arr))\n",
    "# multi dimensional arrray\n",
    "arr1 = np.array([[1,2,3,10],[4,5,6,20],[7,8,9,30]])\n",
    "print(arr1)\n",
    "print(arr1[0:2,0:2])\n",
    "print(arr1[1,2:])\n",
    "print(arr1[2,1:3])\n",
    "print(np.shape(arr1))  #row/col\n",
    "print(np.size(arr1))   # number of element\n",
    "print(np.ndim(arr1))   # dimension (row and col)\n",
    "print(np.dtype)        # data type of array\n",
    "print(len(arr1))        # number of nested value\n",
    "print(arr1.astype(float))  #conversion of datatype"
   ]
  },
  {
   "cell_type": "code",
   "execution_count": 3,
   "id": "58b35844-2942-4e20-aae5-21e1329a6a65",
   "metadata": {},
   "outputs": [
    {
     "name": "stdout",
     "output_type": "stream",
     "text": [
      "[10 20 30 40 50]\n"
     ]
    }
   ],
   "source": [
    "import numpy as np\n",
    "a= np.array([[10,20],[30,40]])\n",
    "print(np.append(a,50))"
   ]
  },
  {
   "cell_type": "code",
   "execution_count": 1,
   "id": "0a770ded-ed47-420b-ad00-553552abff21",
   "metadata": {},
   "outputs": [
    {
     "name": "stdout",
     "output_type": "stream",
     "text": [
      "hello\n"
     ]
    }
   ],
   "source": [
    "print(\"hello\")"
   ]
  },
  {
   "cell_type": "code",
   "execution_count": 2,
   "id": "441bf328-79a1-4963-8737-88d6bbdbf8a5",
   "metadata": {},
   "outputs": [
    {
     "name": "stdout",
     "output_type": "stream",
     "text": [
      "[20 52  0]\n"
     ]
    }
   ],
   "source": [
    "import numpy as np\n",
    "b= np.array([20,52,0])\n",
    "print(b)"
   ]
  },
  {
   "cell_type": "code",
   "execution_count": null,
   "id": "2878b8ab-c407-47a3-a190-e93fe8ded838",
   "metadata": {},
   "outputs": [],
   "source": []
  }
 ],
 "metadata": {
  "kernelspec": {
   "display_name": "Python 3 (ipykernel)",
   "language": "python",
   "name": "python3"
  },
  "language_info": {
   "codemirror_mode": {
    "name": "ipython",
    "version": 3
   },
   "file_extension": ".py",
   "mimetype": "text/x-python",
   "name": "python",
   "nbconvert_exporter": "python",
   "pygments_lexer": "ipython3",
   "version": "3.12.0"
  }
 },
 "nbformat": 4,
 "nbformat_minor": 5
}
