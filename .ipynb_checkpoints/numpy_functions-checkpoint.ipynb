{
 "cells": [
  {
   "cell_type": "code",
   "execution_count": 2,
   "id": "d4729132-7f39-43ea-91be-7786774c9e42",
   "metadata": {},
   "outputs": [
    {
     "name": "stdout",
     "output_type": "stream",
     "text": [
      "[10 20 30 40]\n",
      "[10 20]\n",
      "[30 40]\n",
      "<class 'numpy.ndarray'>\n"
     ]
    }
   ],
   "source": [
    "import numpy as np\n",
    "#single dimensional array\n",
    "arr = np.array([10,20,30,40])\n",
    "print(arr)\n",
    "print((arr[0:2]))\n",
    "print((arr[2:]))\n",
    "print(type(arr))\n",
    "\n"
   ]
  },
  {
   "cell_type": "code",
   "execution_count": 3,
   "id": "d6a850e5-7f31-43e9-b82b-367308b71626",
   "metadata": {},
   "outputs": [
    {
     "name": "stdout",
     "output_type": "stream",
     "text": [
      "[[ 1  2  3 10]\n",
      " [ 4  5  6 20]\n",
      " [ 7  8  9 30]]\n",
      "[[1 2]\n",
      " [4 5]]\n",
      "[ 6 20]\n",
      "[8 9]\n",
      "(3, 4)\n",
      "12\n",
      "2\n",
      "<class 'numpy.dtype'>\n",
      "3\n",
      "[[ 1.  2.  3. 10.]\n",
      " [ 4.  5.  6. 20.]\n",
      " [ 7.  8.  9. 30.]]\n"
     ]
    }
   ],
   "source": [
    "# multi dimensional arrray\n",
    "arr1 = np.array([[1,2,3,10],[4,5,6,20],[7,8,9,30]])\n",
    "print(arr1)\n",
    "print(arr1[0:2,0:2])\n",
    "print(arr1[1,2:])\n",
    "print(arr1[2,1:3])\n",
    "print(np.shape(arr1))  #row/col\n",
    "print(np.size(arr1))   # number of element\n",
    "print(np.ndim(arr1))   # dimension (row and col)\n",
    "print(np.dtype)        # data type of array\n",
    "print(len(arr1))        # number of nested value\n",
    "print(arr1.astype(float))  #conversion of datatype\n"
   ]
  },
  {
   "cell_type": "code",
   "execution_count": null,
   "id": "5dedc8be-f2ed-4c7e-83a7-3593a3520db3",
   "metadata": {},
   "outputs": [],
   "source": []
  }
 ],
 "metadata": {
  "kernelspec": {
   "display_name": "Python 3 (ipykernel)",
   "language": "python",
   "name": "python3"
  },
  "language_info": {
   "codemirror_mode": {
    "name": "ipython",
    "version": 3
   },
   "file_extension": ".py",
   "mimetype": "text/x-python",
   "name": "python",
   "nbconvert_exporter": "python",
   "pygments_lexer": "ipython3",
   "version": "3.12.0"
  }
 },
 "nbformat": 4,
 "nbformat_minor": 5
}
