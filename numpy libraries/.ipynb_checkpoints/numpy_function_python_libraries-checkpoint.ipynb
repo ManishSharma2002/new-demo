{
 "cells": [
  {
   "cell_type": "code",
   "execution_count": 1,
   "id": "4b6398ef",
   "metadata": {},
   "outputs": [
    {
     "name": "stdout",
     "output_type": "stream",
     "text": [
      "[[11 22]\n",
      " [33 44]]\n",
      "[[11 22]\n",
      " [33 44]]\n"
     ]
    }
   ],
   "source": [
    "import numpy as np\n",
    "arr1 = np.array([[10,20],[30,40]])\n",
    "arr2 = np.array([[1,2],[3,4]])\n",
    "print(arr1+arr2)\n",
    "print(np.add(arr1,arr2))\n"
   ]
  },
  {
   "cell_type": "code",
   "execution_count": 9,
   "id": "4c6cdf1d",
   "metadata": {},
   "outputs": [
    {
     "name": "stdout",
     "output_type": "stream",
     "text": [
      "[[ 9 18]\n",
      " [27 36]]\n",
      "[[ 9 18]\n",
      " [27 36]]\n"
     ]
    }
   ],
   "source": [
    "arr1 = np.array([[10,20],[30,40]])\n",
    "arr2 = np.array([[1,2],[3,4]])\n",
    "print(arr1-arr2)\n",
    "print(np.subtract(arr1,arr2))"
   ]
  },
  {
   "cell_type": "code",
   "execution_count": 10,
   "id": "a33bc104",
   "metadata": {},
   "outputs": [
    {
     "name": "stdout",
     "output_type": "stream",
     "text": [
      "[[ 10  40]\n",
      " [ 90 160]]\n",
      "[[ 10  40]\n",
      " [ 90 160]]\n"
     ]
    }
   ],
   "source": [
    "arr1 = np.array([[10,20],[30,40]])\n",
    "arr2 = np.array([[1,2],[3,4]])\n",
    "print(arr1*arr2)\n",
    "print(np.multiply(arr1,arr2))"
   ]
  },
  {
   "cell_type": "code",
   "execution_count": 3,
   "id": "c1e22a43",
   "metadata": {},
   "outputs": [
    {
     "name": "stdout",
     "output_type": "stream",
     "text": [
      "[[0.1 0.1]\n",
      " [0.1 0.1]]\n",
      "[[10. 10.]\n",
      " [10. 10.]]\n"
     ]
    }
   ],
   "source": [
    "import numpy as np\n",
    "arr1 = np.array([[10,20],[30,40]])\n",
    "arr2 = np.array([[1,2],[3,4]])\n",
    "print(arr2/arr1)\n",
    "print(np.divide(arr1,arr2))"
   ]
  },
  {
   "cell_type": "code",
   "execution_count": 15,
   "id": "fbcaea3f",
   "metadata": {},
   "outputs": [
    {
     "name": "stdout",
     "output_type": "stream",
     "text": [
      "[[ 100  400]\n",
      " [ 900 1600]]\n"
     ]
    }
   ],
   "source": [
    "arr1 = np.array([[10,20],[30,40]])\n",
    "arr2 = np.array([2])\n",
    "print(np.power(arr1,arr2))"
   ]
  },
  {
   "cell_type": "code",
   "execution_count": 19,
   "id": "08497bfa",
   "metadata": {},
   "outputs": [
    {
     "name": "stdout",
     "output_type": "stream",
     "text": [
      "[10. 20. 30. 40.]\n"
     ]
    }
   ],
   "source": [
    "arr1= np.array([100,400,900,1600])\n",
    "print(np.sqrt(arr1))\n"
   ]
  },
  {
   "cell_type": "code",
   "execution_count": 21,
   "id": "1802d2d0",
   "metadata": {},
   "outputs": [
    {
     "name": "stdout",
     "output_type": "stream",
     "text": [
      "[1, 2, 3, 11, 12, 13]\n"
     ]
    }
   ],
   "source": [
    "# list is print using math operation\n",
    "arr1 = [1,2,3]\n",
    "arr2 = [11,12,13]\n",
    "print(arr1+arr2)"
   ]
  },
  {
   "cell_type": "code",
   "execution_count": 23,
   "id": "b70f6f5a",
   "metadata": {},
   "outputs": [
    {
     "name": "stdout",
     "output_type": "stream",
     "text": [
      "[ 4  5 65 41  1  5]\n"
     ]
    }
   ],
   "source": [
    "# array is print using concatenate\n",
    "arr1 = np.array([4,5,65])\n",
    "arr2 = np.array([41,1,5])\n",
    "print(np.concatenate([arr1,arr2]))"
   ]
  },
  {
   "cell_type": "code",
   "execution_count": 25,
   "id": "e11204be",
   "metadata": {},
   "outputs": [
    {
     "name": "stdout",
     "output_type": "stream",
     "text": [
      "[[10 20]\n",
      " [30 40]\n",
      " [ 1  2]\n",
      " [ 3  4]]\n"
     ]
    }
   ],
   "source": [
    "arr1 = np.array([[10,20],[30,40]])\n",
    "arr2 = np.array([[1,2],[3,4]])\n",
    "print(np.concatenate([arr1,arr2],axis = 0))"
   ]
  },
  {
   "cell_type": "code",
   "execution_count": 26,
   "id": "45dafdc6",
   "metadata": {},
   "outputs": [
    {
     "name": "stdout",
     "output_type": "stream",
     "text": [
      "[[10 20  1  2]\n",
      " [30 40  3  4]]\n"
     ]
    }
   ],
   "source": [
    "arr1 = np.array([[10,20],[30,40]])\n",
    "arr2 = np.array([[1,2],[3,4]])\n",
    "print(np.concatenate([arr1,arr2],axis = 1))"
   ]
  },
  {
   "cell_type": "code",
   "execution_count": 27,
   "id": "f68a81f0",
   "metadata": {},
   "outputs": [
    {
     "name": "stdout",
     "output_type": "stream",
     "text": [
      "[[10 20  1  2]\n",
      " [30 40  3  4]]\n"
     ]
    }
   ],
   "source": [
    "print(np.hstack([arr1,arr2]))  #horizontal concatenation"
   ]
  },
  {
   "cell_type": "code",
   "execution_count": 28,
   "id": "22ca82fb",
   "metadata": {},
   "outputs": [
    {
     "name": "stdout",
     "output_type": "stream",
     "text": [
      "[[10 20]\n",
      " [30 40]\n",
      " [ 1  2]\n",
      " [ 3  4]]\n"
     ]
    }
   ],
   "source": [
    "print(np.vstack([arr1,arr2]))  #vertical concatenation"
   ]
  },
  {
   "cell_type": "code",
   "execution_count": 46,
   "id": "2179d914",
   "metadata": {
    "scrolled": true
   },
   "outputs": [
    {
     "name": "stdout",
     "output_type": "stream",
     "text": [
      "[array([10,  2, 80, 70, 30, 40])]\n",
      "None\n"
     ]
    }
   ],
   "source": [
    "arr1 = np.array([10,2,80,70,30,40])\n",
    "print(np.array_split(arr1,1))"
   ]
  },
  {
   "cell_type": "code",
   "execution_count": 50,
   "id": "8ce31a5c",
   "metadata": {},
   "outputs": [
    {
     "name": "stdout",
     "output_type": "stream",
     "text": [
      "[80 70]\n"
     ]
    }
   ],
   "source": [
    "arr1 = np.array([10,2,80,70,30,40])\n",
    "b= np.array_split(arr1,3)\n",
    "print(b[1])"
   ]
  },
  {
   "cell_type": "code",
   "execution_count": 56,
   "id": "f8073aee",
   "metadata": {},
   "outputs": [
    {
     "name": "stdout",
     "output_type": "stream",
     "text": [
      "[[10  2]]\n",
      "[array([[10,  2]]), array([[80, 70]]), array([[30, 40]]), array([], shape=(0, 2), dtype=int32)]\n"
     ]
    }
   ],
   "source": [
    "arr1 = np.array([[10,2] ,[80,70],[30,40]])\n",
    "b= np.array_split(arr1,4)\n",
    "print(b[0])\n",
    "print(b)"
   ]
  },
  {
   "cell_type": "code",
   "execution_count": null,
   "id": "c0c08427",
   "metadata": {},
   "outputs": [],
   "source": []
  },
  {
   "cell_type": "code",
   "execution_count": null,
   "id": "ccfeedb7",
   "metadata": {},
   "outputs": [],
   "source": []
  }
 ],
 "metadata": {
  "kernelspec": {
   "display_name": "Python 3 (ipykernel)",
   "language": "python",
   "name": "python3"
  },
  "language_info": {
   "codemirror_mode": {
    "name": "ipython",
    "version": 3
   },
   "file_extension": ".py",
   "mimetype": "text/x-python",
   "name": "python",
   "nbconvert_exporter": "python",
   "pygments_lexer": "ipython3",
   "version": "3.11.5"
  }
 },
 "nbformat": 4,
 "nbformat_minor": 5
}
