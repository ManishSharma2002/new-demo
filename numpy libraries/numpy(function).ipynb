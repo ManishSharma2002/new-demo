{
 "cells": [
  {
   "cell_type": "code",
   "execution_count": 50,
   "id": "d3a949ca-525c-4804-a242-b519161f7b6f",
   "metadata": {},
   "outputs": [
    {
     "name": "stdout",
     "output_type": "stream",
     "text": [
      "[10 20 30 40]\n",
      "[10 20]\n",
      "[30 40]\n",
      "<class 'numpy.ndarray'>\n",
      "[[ 1  2  3 10]\n",
      " [ 4  5  6 20]\n",
      " [ 7  8  9 30]]\n",
      "[[1 2 3]\n",
      " [4 5 6]]\n",
      "[ 6 20]\n",
      "[8 9]\n",
      "(3, 4)\n",
      "12\n",
      "2\n",
      "<class 'numpy.dtype'>\n",
      "3\n",
      "[[ 1.  2.  3. 10.]\n",
      " [ 4.  5.  6. 20.]\n",
      " [ 7.  8.  9. 30.]]\n"
     ]
    }
   ],
   "source": [
    "import numpy as np\n",
    "#single dimensional array\n",
    "arr = np.array([10,20,30,40])\n",
    "print(arr)\n",
    "print((arr[0:2]))\n",
    "print((arr[2:]))\n",
    "print(type(arr))\n",
    "# multi dimensional arrray\n",
    "arr1 = np.array([[1,2,3,10],[4,5,6,20],[7,8,9,30]])\n",
    "print(arr1)\n",
    "print(arr1[0:2,0:3])\n",
    "print(arr1[1,2:])\n",
    "print(arr1[2,1:3])\n",
    "print(np.shape(arr1))  #row/col\n",
    "print(np.size(arr1))   # number of element\n",
    "print(np.ndim(arr1))   # dimension (row and col)\n",
    "print(np.dtype)        # data type of array\n",
    "print(len(arr1))        # number of nested value\n",
    "print(arr1.astype(float))  #conversion of datatype"
   ]
  },
  {
   "cell_type": "code",
   "execution_count": 56,
   "id": "58b35844-2942-4e20-aae5-21e1329a6a65",
   "metadata": {},
   "outputs": [
    {
     "name": "stdout",
     "output_type": "stream",
     "text": [
      "[10 20 30 40 50]\n",
      "[ 10  20  30  40  80 588]\n",
      "[10 45 20 30 40]\n",
      "[[ 10  20  90]\n",
      " [ 30  40 100]]\n",
      "[[10 20]\n",
      " [90 90]\n",
      " [30 40]]\n",
      "[[10 20]\n",
      " [90 90]\n",
      " [30 40]\n",
      " [90 90]]\n"
     ]
    }
   ],
   "source": [
    "\n",
    "# append function\n",
    "import numpy as np\n",
    "a= np.array([[10,20],[30,40]])\n",
    "print(np.append(a,50))\n",
    "print(np.append(a,[80,588]))"
   ]
  },
  {
   "cell_type": "code",
   "execution_count": 47,
   "id": "4f49b649-5419-4547-8951-63b13f37c113",
   "metadata": {},
   "outputs": [
    {
     "name": "stdout",
     "output_type": "stream",
     "text": [
      "[10 45 20 30 40]\n",
      "[[ 10  20  90]\n",
      " [ 30  40 100]]\n",
      "[[10 20]\n",
      " [90 90]\n",
      " [30 40]]\n",
      "[[10 20]\n",
      " [90 90]\n",
      " [30 40]\n",
      " [90 90]]\n"
     ]
    }
   ],
   "source": [
    "# insert function\n",
    "print(np.insert(a,1,45))\n",
    "print(np.insert(a,2,[90,100],axis = 1))\n",
    "print(np.insert(a,1,[90],axis = 0))\n",
    "print(np.insert(a,[1,2],[90],axis = 0))"
   ]
  },
  {
   "cell_type": "code",
   "execution_count": 70,
   "id": "0a770ded-ed47-420b-ad00-553552abff21",
   "metadata": {},
   "outputs": [
    {
     "name": "stdout",
     "output_type": "stream",
     "text": [
      "[[10 55 77 20]\n",
      " [30 40 44 11]]\n",
      "\n",
      "[[10 55 77 20]]\n",
      "\n",
      "[[10 77 20]\n",
      " [30 44 11]]\n"
     ]
    }
   ],
   "source": [
    "# delete function\n",
    "print(a)\n",
    "print()\n",
    "print(np.delete(a,1,axis = 0))\n",
    "print()\n",
    "print(np.delete(a,1,axis = 1))\n"
   ]
  },
  {
   "cell_type": "code",
   "execution_count": 73,
   "id": "8643a48f-be8a-44e7-9d98-055c9da5be9e",
   "metadata": {},
   "outputs": [
    {
     "name": "stdout",
     "output_type": "stream",
     "text": [
      "[[10 55 77 20]]\n",
      "\n",
      "[[10 77 20]\n",
      " [30 44 11]]\n"
     ]
    }
   ],
   "source": [
    "a= np.array([[10,55,77,20],[30,40,44,11]])\n",
    "print(np.delete(a,1,axis=0))\n",
    "print()\n",
    "print(np.delete(a,1,axis=1))\n"
   ]
  },
  {
   "cell_type": "code",
   "execution_count": 74,
   "id": "e3a55013-db03-4c2f-91ad-bcf2ac725d1a",
   "metadata": {},
   "outputs": [
    {
     "name": "stdout",
     "output_type": "stream",
     "text": [
      "[[  1   3   5  69]\n",
      " [  4  11  37 690]]\n"
     ]
    }
   ],
   "source": [
    "# sort function\n",
    "b = np.array([[1,5,3,69],[4,690,11,37]])\n",
    "print(np.sort(b))"
   ]
  },
  {
   "cell_type": "code",
   "execution_count": 79,
   "id": "5bf4d4eb-7b0b-48e8-8d87-0ec0784e604f",
   "metadata": {},
   "outputs": [
    {
     "name": "stdout",
     "output_type": "stream",
     "text": [
      "(array([2], dtype=int64),)\n",
      "\n",
      "(array([], dtype=int64),)\n"
     ]
    }
   ],
   "source": [
    "\n",
    "# for searching \n",
    "b = np.array([1,5,3,69,55])\n",
    "s= np.where(b == 3)\n",
    "s1= np.where(b%2==0)\n",
    "print(s)\n",
    "print()\n",
    "print(s1)\n"
   ]
  },
  {
   "cell_type": "code",
   "execution_count": 87,
   "id": "9e959c53-58a9-41aa-bd3f-9f07e35397d8",
   "metadata": {},
   "outputs": [
    {
     "name": "stdout",
     "output_type": "stream",
     "text": [
      "2\n",
      "4\n"
     ]
    }
   ],
   "source": [
    "# search sort\n",
    "ar = np.array([1,2,3,4,5])\n",
    "ss= np.searchsorted(ar,3)\n",
    "print(ss)\n",
    "ss= np.searchsorted(ar,5)\n",
    "print(ss)"
   ]
  },
  {
   "cell_type": "code",
   "execution_count": 89,
   "id": "dc4e545e-0965-47ad-9eff-fb451699b8d4",
   "metadata": {},
   "outputs": [
    {
     "name": "stdout",
     "output_type": "stream",
     "text": [
      "[40 50 60]\n"
     ]
    }
   ],
   "source": [
    "# filter \n",
    "c= np.array([20,30,40,50,60])\n",
    "fa = c>35\n",
    "new = c[fa]\n",
    "print(new)"
   ]
  },
  {
   "cell_type": "code",
   "execution_count": 90,
   "id": "164d1464-8dca-4d12-bd9d-c60d6000d6e7",
   "metadata": {},
   "outputs": [
    {
     "name": "stdout",
     "output_type": "stream",
     "text": [
      "[20 40 60]\n"
     ]
    }
   ],
   "source": [
    "fa = [True,False,True,False,True]\n",
    "new = c[fa]\n",
    "print(new)"
   ]
  },
  {
   "cell_type": "code",
   "execution_count": 94,
   "id": "95397ae5-b34e-4449-b029-0e9ec1aa5d31",
   "metadata": {},
   "outputs": [
    {
     "name": "stdout",
     "output_type": "stream",
     "text": [
      "200\n",
      "20\n",
      "60\n",
      "5\n",
      "40.0\n",
      "[ 20  50  90 140 200]\n",
      "[      20      600    24000  1200000 72000000]\n"
     ]
    }
   ],
   "source": [
    "# aggregating function\n",
    "c= np.array([20,30,40,50,60])\n",
    "print(np.sum(c))\n",
    "print(np.min(c))\n",
    "print(np.max(c))\n",
    "print(np.size(c))\n",
    "print(np.mean(c))\n",
    "print(np.cumsum(c))\n",
    "print(np.cumprod(c))\n"
   ]
  },
  {
   "cell_type": "code",
   "execution_count": 100,
   "id": "f74e957e-4bc7-4bc2-8e9a-2c23ccc0801e",
   "metadata": {},
   "outputs": [
    {
     "name": "stdout",
     "output_type": "stream",
     "text": [
      "\n",
      "[ 10  50 100 150 300 350] \n",
      " [10 50 20 60 30 10]\n",
      "26100\n",
      "960\n"
     ]
    }
   ],
   "source": [
    "#  important - sum(),prod(),cumsum(),cumprod()\n",
    "x= np.array([10,50,100,150,300,350])\n",
    "y= np.array([10,50,20,60,30,10])\n",
    "price=np.array(x)\n",
    "quantity=np.array(y)\n",
    "print()\n",
    "print(price,\"\\n\",quantity)\n",
    "d= np.cumprod([price,quantity],axis = 0)\n",
    "print(d[1].sum())\n",
    "print(d[0].sum())\n"
   ]
  },
  {
   "cell_type": "code",
   "execution_count": 110,
   "id": "6cbdefb9-a931-4879-b5f3-93f076c37407",
   "metadata": {},
   "outputs": [
    {
     "name": "stdout",
     "output_type": "stream",
     "text": [
      "151.42857142857142\n",
      "100.0\n",
      "100\n",
      "117.76836483157113\n",
      "13869.387755102041\n"
     ]
    }
   ],
   "source": [
    "import statistics as stats\n",
    "x= ([10,50,100,150,300,100,350])\n",
    "# y = np.array(a)\n",
    "print(np.mean(x))\n",
    "print(np.median(x))\n",
    "print(stats.mode(x))\n",
    "print(np.std(x))\n",
    "print(np.var(x))"
   ]
  },
  {
   "cell_type": "code",
   "execution_count": 112,
   "id": "edeb718c-22d8-4b98-bf2e-c0b0b406e368",
   "metadata": {},
   "outputs": [
    {
     "name": "stdout",
     "output_type": "stream",
     "text": [
      "[[ 1.        -0.1877537]\n",
      " [-0.1877537  1.       ]]\n"
     ]
    }
   ],
   "source": [
    "# statistical function\n",
    "# -1 represent invesly proportional relationbship\n",
    "#  1 represent proportional relationbship\n",
    "# 0 represent no relationbship\n",
    "tobacco_consumption= ([10,50,100,150,300,350])\n",
    "death= ([10,50,20,60,30,10])\n",
    "print(np.corrcoef([tobacco_consumption,death]))"
   ]
  },
  {
   "cell_type": "code",
   "execution_count": 113,
   "id": "c3a16e95-6a53-4ca0-9894-929b47fb9d28",
   "metadata": {},
   "outputs": [
    {
     "name": "stdout",
     "output_type": "stream",
     "text": [
      "[[ 1.         -0.66621445]\n",
      " [-0.66621445  1.        ]]\n"
     ]
    }
   ],
   "source": [
    "price = [300,100,350,150,200]\n",
    "sales  =[10,20,7,17,3]\n",
    "print(np.corrcoef([price,sales]))\n"
   ]
  }
 ],
 "metadata": {
  "kernelspec": {
   "display_name": "Python 3 (ipykernel)",
   "language": "python",
   "name": "python3"
  },
  "language_info": {
   "codemirror_mode": {
    "name": "ipython",
    "version": 3
   },
   "file_extension": ".py",
   "mimetype": "text/x-python",
   "name": "python",
   "nbconvert_exporter": "python",
   "pygments_lexer": "ipython3",
   "version": "3.12.0"
  }
 },
 "nbformat": 4,
 "nbformat_minor": 5
}
