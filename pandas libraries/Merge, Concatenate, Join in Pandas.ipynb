{
 "cells": [
  {
   "cell_type": "code",
   "execution_count": 2,
   "id": "0850cfa4-c6e6-44b1-9381-9aa4c4576a21",
   "metadata": {},
   "outputs": [
    {
     "name": "stdout",
     "output_type": "stream",
     "text": [
      "  emp id    name  age\n",
      "0    E01    john   20\n",
      "1    E02   shyam   22\n",
      "2    E03   rahul   36\n",
      "3    E04  visahl   44\n",
      "4    E05    ravi   56\n",
      "\n",
      "  emp id  Salary\n",
      "0    E01   15000\n",
      "1    E02   20000\n",
      "2    E03   55000\n",
      "3    E04   30000\n",
      "4    E05   12000\n"
     ]
    },
    {
     "name": "stderr",
     "output_type": "stream",
     "text": [
      "C:\\Users\\SACHI\\AppData\\Local\\Temp\\ipykernel_5880\\2115223086.py:1: DeprecationWarning: \n",
      "Pyarrow will become a required dependency of pandas in the next major release of pandas (pandas 3.0),\n",
      "(to allow more performant data types, such as the Arrow string type, and better interoperability with other libraries)\n",
      "but was not found to be installed on your system.\n",
      "If this would cause problems for you,\n",
      "please provide us feedback at https://github.com/pandas-dev/pandas/issues/54466\n",
      "        \n",
      "  import pandas as pd\n"
     ]
    }
   ],
   "source": [
    "import pandas as pd\n",
    "data1 = {\"emp id\":[\"E01\",\"E02\",\"E03\",\"E04\",\"E05\"],\n",
    "        \"name\":[\"john\",\"shyam\",\"rahul\",\"visahl\",\"ravi\"],\n",
    "        \"age\":[20,22,36,44,56]}\n",
    "data2 = {\"emp id\":[\"E01\",\"E02\",\"E03\",\"E04\",\"E05\"],\n",
    "        \"Salary\":[15000,20000,55000,30000,12000]}\n",
    "df1 = pd.DataFrame(data1)\n",
    "df2 = pd.DataFrame(data2)\n",
    "print(df1)\n",
    "print()\n",
    "print(df2)"
   ]
  },
  {
   "cell_type": "code",
   "execution_count": 3,
   "id": "f83208a9-852d-4b34-b6a0-07578ec5b44e",
   "metadata": {},
   "outputs": [
    {
     "name": "stdout",
     "output_type": "stream",
     "text": [
      "  emp id    name  age  Salary\n",
      "0    E01    john   20   15000\n",
      "1    E02   shyam   22   20000\n",
      "2    E03   rahul   36   55000\n",
      "3    E04  visahl   44   30000\n",
      "4    E05    ravi   56   12000\n"
     ]
    }
   ],
   "source": [
    "print(pd.merge(df1,df2,on = \"emp id\"))"
   ]
  },
  {
   "cell_type": "code",
   "execution_count": 4,
   "id": "0e16bf8a-1716-44ba-8157-8173a15a0949",
   "metadata": {},
   "outputs": [
    {
     "name": "stdout",
     "output_type": "stream",
     "text": [
      "  emp id    name  age\n",
      "0    E01    john   20\n",
      "1    E06   shyam   22\n",
      "2    E03   rahul   36\n",
      "3    E08  visahl   44\n",
      "4    E04    ravi   56\n",
      "5    E09   mohan   23\n",
      "\n",
      "  emp id  Salary\n",
      "0    E01   15000\n",
      "1    E02   20000\n",
      "2    E03   55000\n",
      "3    E04   30000\n",
      "4    E07   12000\n",
      "5    E11   21000\n"
     ]
    }
   ],
   "source": [
    "data3 = {\"emp id\":[\"E01\",\"E06\",\"E03\",\"E08\",\"E04\",\"E09\"],\n",
    "        \"name\":[\"john\",\"shyam\",\"rahul\",\"visahl\",\"ravi\",\"mohan\"],\n",
    "        \"age\":[20,22,36,44,56,23]}\n",
    "data4 = {\"emp id\":[\"E01\",\"E02\",\"E03\",\"E04\",\"E07\",\"E11\"],\n",
    "       \"Salary\":[15000,20000,55000,30000,12000,21000]}\n",
    "df1 = pd.DataFrame(data3)\n",
    "df2 = pd.DataFrame(data4)\n",
    "print(df1)\n",
    "print()\n",
    "print(df2)\n"
   ]
  },
  {
   "cell_type": "code",
   "execution_count": 5,
   "id": "243e3920-3b3e-49b1-8cf7-f93b61cd657d",
   "metadata": {},
   "outputs": [
    {
     "name": "stdout",
     "output_type": "stream",
     "text": [
      "  emp id    name  age   Salary\n",
      "0    E01    john   20  15000.0\n",
      "1    E06   shyam   22      NaN\n",
      "2    E03   rahul   36  55000.0\n",
      "3    E08  visahl   44      NaN\n",
      "4    E04    ravi   56  30000.0\n",
      "5    E09   mohan   23      NaN\n"
     ]
    }
   ],
   "source": [
    "print(pd.merge(left = df1,right =df2,on = \"emp id\",how = \"left\"))"
   ]
  },
  {
   "cell_type": "code",
   "execution_count": 6,
   "id": "e11d5c7d-f88d-45cb-b2f8-37ddb855c680",
   "metadata": {},
   "outputs": [
    {
     "name": "stdout",
     "output_type": "stream",
     "text": [
      "  emp id   name   age  Salary\n",
      "0    E01   john  20.0   15000\n",
      "1    E02    NaN   NaN   20000\n",
      "2    E03  rahul  36.0   55000\n",
      "3    E04   ravi  56.0   30000\n",
      "4    E07    NaN   NaN   12000\n",
      "5    E11    NaN   NaN   21000\n"
     ]
    }
   ],
   "source": [
    "print(pd.merge(left = df1,right =df2,on = \"emp id\",how = \"right\"))\n"
   ]
  },
  {
   "cell_type": "code",
   "execution_count": 14,
   "id": "5817be79-6bc9-4abc-ba97-ec119ab70e7a",
   "metadata": {},
   "outputs": [
    {
     "name": "stdout",
     "output_type": "stream",
     "text": [
      "  emp id    name  age\n",
      "0    E01    john   20\n",
      "1    E02   shyam   22\n",
      "2    E03   rahul   36\n",
      "3    E04  visahl   44\n",
      "4    E05    ravi   56\n",
      "\n",
      "  emp id    name  age\n",
      "0    E06    papu   21\n",
      "1    E07   chotu   25\n",
      "2    E08  piyush   26\n",
      "3    E09    siya   14\n",
      "4    E10     ram   16\n"
     ]
    }
   ],
   "source": [
    "import pandas as pd\n",
    "data1 = {\"emp id\":[\"E01\",\"E02\",\"E03\",\"E04\",\"E05\"],\n",
    "        \"name\":[\"john\",\"shyam\",\"rahul\",\"visahl\",\"ravi\"],\n",
    "        \"age\":[20,22,36,44,56]}\n",
    "data2 = {\"emp id\":[\"E06\",\"E07\",\"E08\",\"E09\",\"E10\"],\n",
    "          \"name\":[\"papu\",\"chotu\",\"piyush\",\"siya\",\"ram\"],\n",
    "        \"age\":[21,25,26,14,16]}\n",
    "df1 = pd.DataFrame(data1)\n",
    "df2 = pd.DataFrame(data2)\n",
    "print(df1)\n",
    "print()\n",
    "\n",
    "print(df2)"
   ]
  },
  {
   "cell_type": "code",
   "execution_count": 16,
   "id": "a4e14b05-a6e6-471e-9b9b-6d6ebe6818d0",
   "metadata": {},
   "outputs": [
    {
     "name": "stdout",
     "output_type": "stream",
     "text": [
      "  emp id    name  age\n",
      "0    E01    john   20\n",
      "1    E02   shyam   22\n",
      "2    E03   rahul   36\n",
      "3    E04  visahl   44\n",
      "4    E05    ravi   56\n",
      "0    E06    papu   21\n",
      "1    E07   chotu   25\n",
      "2    E08  piyush   26\n",
      "3    E09    siya   14\n",
      "4    E10     ram   16\n"
     ]
    }
   ],
   "source": [
    "print(pd.concat([df1,df2]))"
   ]
  },
  {
   "cell_type": "code",
   "execution_count": null,
   "id": "5f70c754-d296-485b-a779-6bb66595a94b",
   "metadata": {},
   "outputs": [],
   "source": []
  }
 ],
 "metadata": {
  "kernelspec": {
   "display_name": "Python 3 (ipykernel)",
   "language": "python",
   "name": "python3"
  },
  "language_info": {
   "codemirror_mode": {
    "name": "ipython",
    "version": 3
   },
   "file_extension": ".py",
   "mimetype": "text/x-python",
   "name": "python",
   "nbconvert_exporter": "python",
   "pygments_lexer": "ipython3",
   "version": "3.12.0"
  }
 },
 "nbformat": 4,
 "nbformat_minor": 5
}
