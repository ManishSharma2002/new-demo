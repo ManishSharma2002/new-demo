{
 "cells": [
  {
   "cell_type": "code",
   "execution_count": 3,
   "id": "6413ee3c",
   "metadata": {},
   "outputs": [
    {
     "name": "stdout",
     "output_type": "stream",
     "text": [
      "  keys   name houses\n",
      "0   k1   john    red\n",
      "1   k2    ben  green\n",
      "2   k1  david   blue\n",
      "3   k2  peter    red\n"
     ]
    }
   ],
   "source": [
    "import pandas as pd\n",
    "dic= {\"keys\":[\"k1\",\"k2\",\"k1\",\"k2\"],\n",
    "     \"name\":[\"john\",\"ben\",\"david\",\"peter\"],\n",
    "      \"houses\":[\"red\",\"green\",\"blue\",\"red\"]}\n",
    "df1 = pd.DataFrame(dic)\n",
    "print(df1)"
   ]
  },
  {
   "cell_type": "code",
   "execution_count": 18,
   "id": "fc6f6af2-0dba-4b9a-8f61-a00883c45f71",
   "metadata": {},
   "outputs": [
    {
     "name": "stdout",
     "output_type": "stream",
     "text": [
      "     houses                  Grades                 \n",
      "name    ben david john peter    ben david john peter\n",
      "keys                                                \n",
      "k1      NaN  blue  red   NaN    NaN   6th  3rd   NaN\n",
      "k2    green   NaN  NaN   red    4th   NaN  NaN   9th\n",
      "  keys   name houses Grades\n",
      "0   k1   john    red    3rd\n",
      "1   k2    ben  green    4th\n",
      "2   k1  david   blue    6th\n",
      "3   k2  peter    red    9th\n"
     ]
    }
   ],
   "source": [
    "dict= {\"keys\":[\"k1\",\"k2\",\"k1\",\"k2\"],\n",
    "     \"name\":[\"john\",\"ben\",\"david\",\"peter\"],\n",
    "      \"houses\":[\"red\",\"green\",\"blue\",\"red\"],\n",
    "     \"Grades\":[\"3rd\" ,\"4th\",\"6th\",\"9th\"]}\n",
    "df2 = pd.DataFrame(dict)\n",
    "print(df2)\n",
    "print(df2.pivot(index= \"keys\",columns =\"name\",values=[\"houses\",\"Grades\"]))"
   ]
  },
  {
   "cell_type": "code",
   "execution_count": 24,
   "id": "821b7615-1dac-4700-9d3c-08e577ad9c28",
   "metadata": {},
   "outputs": [
    {
     "name": "stdout",
     "output_type": "stream",
     "text": [
      "    name variable  value\n",
      "0   john   houses    red\n",
      "1    ben   houses  green\n",
      "2  david   houses   blue\n",
      "3  peter   houses    red\n",
      "\n",
      "    name variable  value\n",
      "0   john   houses    red\n",
      "1    ben   houses  green\n",
      "2  david   houses   blue\n",
      "3  peter   houses    red\n",
      "4   john   Grades    3rd\n",
      "5    ben   Grades    4th\n",
      "6  david   Grades    6th\n",
      "7  peter   Grades    9th\n"
     ]
    }
   ],
   "source": [
    "t= {\"keys\":[\"k1\",\"k2\",\"k1\",\"k2\"],\n",
    "     \"name\":[\"john\",\"ben\",\"david\",\"peter\"],\n",
    "      \"houses\":[\"red\",\"green\",\"blue\",\"red\"],\n",
    "     \"Grades\":[\"3rd\" ,\"4th\",\"6th\",\"9th\"]}\n",
    "df2 = pd.DataFrame(dict)\n",
    "print(pd.melt(df2,id_vars = [\"name\"], value_vars=\"houses\"))\n",
    "print()\n",
    "print(pd.melt(df2,id_vars = [\"name\"], value_vars=[\"houses\",\"Grades\"]))\n"
   ]
  },
  {
   "cell_type": "code",
   "execution_count": null,
   "id": "a61fd8a1-5fa7-421c-b745-40eca18c03a4",
   "metadata": {},
   "outputs": [],
   "source": []
  }
 ],
 "metadata": {
  "kernelspec": {
   "display_name": "Python 3 (ipykernel)",
   "language": "python",
   "name": "python3"
  },
  "language_info": {
   "codemirror_mode": {
    "name": "ipython",
    "version": 3
   },
   "file_extension": ".py",
   "mimetype": "text/x-python",
   "name": "python",
   "nbconvert_exporter": "python",
   "pygments_lexer": "ipython3",
   "version": "3.12.0"
  }
 },
 "nbformat": 4,
 "nbformat_minor": 5
}
