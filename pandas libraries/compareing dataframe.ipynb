{
 "cells": [
  {
   "cell_type": "code",
   "execution_count": 30,
   "id": "00c12e08-6f8f-49c4-a09b-42448eceac94",
   "metadata": {},
   "outputs": [
    {
     "name": "stdout",
     "output_type": "stream",
     "text": [
      "   fruits  price  quantity\n",
      "0   mango    100        10\n",
      "1   apple    150        15\n",
      "2  banana     50        10\n",
      "3  papaya     30         3\n",
      "   fruits  price  quantity\n",
      "0   mango    120        20\n",
      "1   apple    130        25\n",
      "2  banana     50        10\n",
      "3  papaya    140        30\n"
     ]
    }
   ],
   "source": [
    "import pandas as pd\n",
    "dic = {\"fruits\":[\"mango\",\"apple\",\"banana\",\"papaya\"],\n",
    "        \"price\":[100,150,50,30],\n",
    "        \"quantity\":[10,15,10,3]}\n",
    "df1 = pd.DataFrame(dic)\n",
    "print(df)\n",
    "df2 = df1.copy()\n",
    "df2.loc[0,\"price\"] = 120\n",
    "df2.loc[1,\"price\"] = 130\n",
    "df2.loc[2,\"price\"] = 50\n",
    "df2.loc[3,\"price\"] = 140\n",
    "df2.loc[0,\"quantity\"] = 20\n",
    "df2.loc[1,\"quantity\"] = 25\n",
    "df2.loc[2,\"quantity\"] = 10\n",
    "df2.loc[3,\"quantity\"] = 30\n",
    "print(df2)\n",
    "\n",
    "\n"
   ]
  },
  {
   "cell_type": "code",
   "execution_count": 36,
   "id": "aaf281a4-105a-47cd-b632-199652d9f18e",
   "metadata": {},
   "outputs": [
    {
     "name": "stdout",
     "output_type": "stream",
     "text": [
      "   price        quantity      \n",
      "    self  other     self other\n",
      "0  100.0  120.0     10.0  20.0\n",
      "1  150.0  130.0     15.0  25.0\n",
      "3   30.0  140.0      3.0  30.0\n",
      "  price       quantity      \n",
      "   self other     self other\n",
      "0   100   120       10    20\n",
      "1   150   130       15    25\n",
      "3    30   140        3    30\n",
      "   price        quantity      \n",
      "    self  other     self other\n",
      "0  100.0  120.0     10.0  20.0\n",
      "1  150.0  130.0     15.0  25.0\n",
      "3   30.0  140.0      3.0  30.0\n",
      "  fruits        price        quantity      \n",
      "    self other   self  other     self other\n",
      "0    NaN   NaN  100.0  120.0     10.0  20.0\n",
      "1    NaN   NaN  150.0  130.0     15.0  25.0\n",
      "2    NaN   NaN    NaN    NaN      NaN   NaN\n",
      "3    NaN   NaN   30.0  140.0      3.0  30.0\n",
      "   price        quantity      \n",
      "    self  other     self other\n",
      "0  100.0  120.0     10.0  20.0\n",
      "1  150.0  130.0     15.0  25.0\n",
      "3   30.0  140.0      3.0  30.0\n"
     ]
    }
   ],
   "source": [
    "print(df1.compare(df2))\n",
    "print(df1.compare(df2,keep_equal = True))\n",
    "print(df1.compare(df2,keep_equal = False))\n",
    "\n",
    "print(df1.compare(df2,keep_shape = True))  # true ,means both of these data are same values show NaN\n",
    "print(df1.compare(df2,keep_shape = False))\n",
    "\n"
   ]
  },
  {
   "cell_type": "code",
   "execution_count": 32,
   "id": "e092299a-124a-4dea-bee7-560968e8a02c",
   "metadata": {},
   "outputs": [
    {
     "name": "stdout",
     "output_type": "stream",
     "text": [
      "         price  quantity\n",
      "0 self   100.0      10.0\n",
      "  other  120.0      20.0\n",
      "1 self   150.0      15.0\n",
      "  other  130.0      25.0\n",
      "3 self    30.0       3.0\n",
      "  other  140.0      30.0\n"
     ]
    }
   ],
   "source": [
    "print(df1.compare(df2,align_axis = 0))"
   ]
  },
  {
   "cell_type": "code",
   "execution_count": null,
   "id": "3870d4bf-3fbe-40a1-86cd-68f02b5e5d13",
   "metadata": {},
   "outputs": [],
   "source": []
  }
 ],
 "metadata": {
  "kernelspec": {
   "display_name": "Python 3 (ipykernel)",
   "language": "python",
   "name": "python3"
  },
  "language_info": {
   "codemirror_mode": {
    "name": "ipython",
    "version": 3
   },
   "file_extension": ".py",
   "mimetype": "text/x-python",
   "name": "python",
   "nbconvert_exporter": "python",
   "pygments_lexer": "ipython3",
   "version": "3.12.0"
  }
 },
 "nbformat": 4,
 "nbformat_minor": 5
}
